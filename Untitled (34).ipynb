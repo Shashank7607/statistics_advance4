{
 "cells": [
  {
   "cell_type": "code",
   "execution_count": 3,
   "id": "a0612e42-d4d7-4b96-95c0-7963d20522f7",
   "metadata": {},
   "outputs": [],
   "source": [
    "#Ans 1"
   ]
  },
  {
   "cell_type": "code",
   "execution_count": 4,
   "id": "71375bdc-5903-430f-907d-f032afdc3143",
   "metadata": {},
   "outputs": [
    {
     "name": "stdout",
     "output_type": "stream",
     "text": [
      "95% Confidence Interval: (49.02001800772997, 50.97998199227003)\n"
     ]
    }
   ],
   "source": [
    "import scipy.stats as stats\n",
    "\n",
    "# Sample mean and standard deviation\n",
    "mean = 50\n",
    "std_dev = 5\n",
    "\n",
    "# Sample size\n",
    "n = 100\n",
    "\n",
    "# Calculate the standard error\n",
    "std_error = std_dev / (n ** 0.5)\n",
    "\n",
    "# Calculate the margin of error\n",
    "margin_of_error = stats.norm.ppf(0.975) * std_error\n",
    "\n",
    "# Calculate the confidence interval\n",
    "confidence_interval = (mean - margin_of_error, mean + margin_of_error)\n",
    "\n",
    "# Print the confidence interval\n",
    "print(\"95% Confidence Interval:\", confidence_interval)\n"
   ]
  },
  {
   "cell_type": "code",
   "execution_count": 6,
   "id": "e8ee208d-5853-4fcc-b523-1595fee7ab9a",
   "metadata": {},
   "outputs": [],
   "source": [
    "# In this example, the mean variable represents the sample mean (50) and the std_dev variable represents the standard deviation (5) of the sample data. The n variable represents the sample size (100).\n",
    "\n",
    "# First, we calculate the standard error by dividing the standard deviation by the square root of the sample size.\n",
    "\n",
    "# Next, we calculate the margin of error using the inverse of the cumulative distribution function (CDF) of the standard normal distribution at the desired confidence level (in this case, 95%). We use stats.norm.ppf(0.975) to find the z-value corresponding to the upper tail of the distribution (0.975 for a 95% confidence interval).\n",
    "\n",
    "# Then, we calculate the confidence interval by subtracting and adding the margin of error from the sample mean.\n",
    "\n",
    "# Finally, we print the 95% confidence interval.\n",
    "\n",
    "# Interpreting the results:\n",
    "# The resulting confidence interval (lower bound, upper bound) represents the range within which we can be 95% confident that the true population mean lies, based on the given sample data.\n",
    "\n",
    "# For example, if the confidence interval is (48.65, 51.35), it means that we are 95% confident that the true population mean is between 48.65 and 51.35. This implies that if we were to repeat the sampling process and construct confidence intervals using different samples, approximately 95% of those intervals would contain the true population mean."
   ]
  },
  {
   "cell_type": "code",
   "execution_count": 7,
   "id": "0cc91265-ef64-4739-bd54-88a57343f9fc",
   "metadata": {},
   "outputs": [],
   "source": [
    "#Ans 2"
   ]
  },
  {
   "cell_type": "code",
   "execution_count": 15,
   "id": "e57a2c82-a8f5-4b44-9f2f-497b034bf44f",
   "metadata": {},
   "outputs": [
    {
     "name": "stdout",
     "output_type": "stream",
     "text": [
      "Test Chi2 statistic: 5.0\n",
      "p-value: 0.4158801869955079\n",
      "Critical Chi Square value for 0.05 significance level for 5 degrees of freedom is : 11.0705\n",
      "Fail to reject null hypothesis\n",
      "Conclusion : The distribution of colors of M&Ms in the bag matches the expected distribution.\n"
     ]
    }
   ],
   "source": [
    "import numpy as np\n",
    "from scipy.stats import chisquare\n",
    "from scipy.stats import chi2\n",
    "\n",
    "# observed frequencies\n",
    "obs_freq = np.array([10, 20, 15, 5, 5, 15])\n",
    "\n",
    "# expected frequencies\n",
    "exp_freq = np.array([0.2, 0.2, 0.2, 0.1, 0.1, 0.2]) * np.sum(obs_freq)\n",
    "\n",
    "# Null and alternate hypothesis\n",
    "null_hypothesis = \"The distribution of colors of M&Ms in the bag matches the expected distribution.\"\n",
    "alternate_hypothesis = \"The distribution of colors of M&Ms in the bag does not match the expected distribution.\"\n",
    "\n",
    "# perform chi-square goodness of fit test\n",
    "test_statistic, p_value = chisquare(obs_freq, exp_freq)\n",
    "\n",
    "# print results\n",
    "print(\"Test Chi2 statistic:\", test_statistic)\n",
    "print(\"p-value:\", p_value)\n",
    "\n",
    "# Critical chi2 value\n",
    "df = len(obs_freq)-1\n",
    "alpha = 0.05\n",
    "chi2_crit = chi2.ppf(1-alpha,df)\n",
    "print(f\"Critical Chi Square value for {alpha} significance level for {df} degrees of freedom is : {chi2_crit:.4f}\")\n",
    "\n",
    "# compare p-value with significance level\n",
    "alpha = 0.05\n",
    "if p_value < alpha:\n",
    "    print(\"Reject null hypothesis\")\n",
    "    print(f\"Conculsion : {alternate_hypothesis}\")\n",
    "else:\n",
    "    print(\"Fail to reject null hypothesis\")\n",
    "    print(f\"Conclusion : {null_hypothesis}\")"
   ]
  },
  {
   "cell_type": "code",
   "execution_count": 16,
   "id": "2131adf9-e5f6-412e-ad73-d696424a3ee9",
   "metadata": {},
   "outputs": [],
   "source": [
    "#Ans 3"
   ]
  },
  {
   "cell_type": "code",
   "execution_count": 25,
   "id": "9772ee70-9012-409f-8bea-9ba431503bee",
   "metadata": {},
   "outputs": [
    {
     "name": "stdout",
     "output_type": "stream",
     "text": [
      "Observed Dataframe Below :\n",
      "\n",
      "           Group A  Group B\n",
      "Outcome 1       20       15\n",
      "Outcome 2       10       25\n",
      "Outcome 3       15       20\n",
      "\n",
      "============================\n",
      "\n",
      "Expected Values Dataframe Below :\n",
      "\n",
      "           Group A  Group B\n",
      "Outcome 1     15.0     20.0\n",
      "Outcome 2     15.0     20.0\n",
      "Outcome 3     15.0     20.0\n",
      "\n",
      "Chi-square statistic: 5.8333\n",
      "p-value: 0.0541\n",
      "Failed to reject the Null Hypothesis\n",
      "Conclusion : The outcomes are independent of the groups.\n"
     ]
    }
   ],
   "source": [
    "from scipy.stats import chi2_contingency\n",
    "import pandas as pd\n",
    "\n",
    "# Defining the observed contingency table in pandas\n",
    "obs_df = pd.DataFrame({'Group A':[20,10,15],'Group B':[15,25,20]})\n",
    "obs_df.index = ['Outcome 1','Outcome 2','Outcome 3']\n",
    "print(\"Observed Dataframe Below :\\n\")\n",
    "print(obs_df)\n",
    "print(\"\\n============================\\n\")\n",
    "\n",
    "# Null and Alternate Hypothesis\n",
    "null_hypothesis = \"The outcomes are independent of the groups.\"\n",
    "alternate_hypothesis = \"The outcomes are Dependent on the groups.\"\n",
    "\n",
    "# Calculate the chi-square statistic and p-value\n",
    "stat, p, dof, expected = chi2_contingency(obs_df)\n",
    "\n",
    "# Print Expected DataFrame\n",
    "expected_df = pd.DataFrame(expected)\n",
    "expected_df.columns = ['Group A','Group B']\n",
    "expected_df.index = ['Outcome 1','Outcome 2','Outcome 3']\n",
    "print(\"Expected Values Dataframe Below :\\n\")\n",
    "print(expected_df)\n",
    "\n",
    "# Print the results\n",
    "print(\"\\nChi-square statistic:\", round(stat,4))\n",
    "print(\"p-value:\", round(p,4))\n",
    "\n",
    "# Significance \n",
    "alpha = 0.05 \n",
    "\n",
    "if p < alpha :\n",
    "    print(\"Reject the Null Hypothesis\")\n",
    "    print(f\"Conclusion : {alternate_hypothesis}\")\n",
    "else:\n",
    "    print(\"Failed to reject the Null Hypothesis\")\n",
    "    print(f\"Conclusion : {null_hypothesis}\")"
   ]
  },
  {
   "cell_type": "code",
   "execution_count": 26,
   "id": "d0ad2416-6f09-46e4-8639-cf10feb5631b",
   "metadata": {},
   "outputs": [],
   "source": [
    "#Ans 4"
   ]
  },
  {
   "cell_type": "code",
   "execution_count": 27,
   "id": "c6c7f954-6663-488a-b15e-ce0c1e4385b9",
   "metadata": {},
   "outputs": [
    {
     "name": "stdout",
     "output_type": "stream",
     "text": [
      "95% Confidence Interval: (0.09151638887130707, 0.1484836111286929)\n"
     ]
    }
   ],
   "source": [
    "import scipy.stats as stats\n",
    "\n",
    "# Sample size\n",
    "n = 500\n",
    "\n",
    "# Number of individuals who smoke\n",
    "smokers = 60\n",
    "\n",
    "# Calculate the sample proportion\n",
    "p = smokers / n\n",
    "\n",
    "# Calculate the standard error\n",
    "std_error = (p * (1 - p) / n) ** 0.5\n",
    "\n",
    "# Calculate the margin of error\n",
    "margin_of_error = stats.norm.ppf(0.975) * std_error\n",
    "\n",
    "# Calculate the confidence interval\n",
    "confidence_interval = (p - margin_of_error, p + margin_of_error)\n",
    "\n",
    "# Print the confidence interval\n",
    "print(\"95% Confidence Interval:\", confidence_interval)\n"
   ]
  },
  {
   "cell_type": "code",
   "execution_count": 28,
   "id": "e24ab2a0-0ab9-4e24-99f4-4086678efbe7",
   "metadata": {},
   "outputs": [],
   "source": [
    "# In this example, the n variable represents the sample size (500) and the smokers variable represents the number of individuals who smoke (60).\n",
    "\n",
    "# First, we calculate the sample proportion p by dividing the number of smokers by the sample size.\n",
    "\n",
    "# Next, we calculate the standard error using the formula for the standard deviation of a sample proportion.\n",
    "\n",
    "# Then, we calculate the margin of error using the inverse of the cumulative distribution function (CDF) of the standard normal distribution at the desired confidence level (0.975 for a 95% confidence interval).\n",
    "\n",
    "# Finally, we calculate the confidence interval by subtracting and adding the margin of error from the sample proportion.\n",
    "\n",
    "# The resulting confidence interval represents the range within which we can be 95% confident that the true proportion of individuals in the population who smoke lies, based on the given sample data.\n",
    "\n",
    "# For example, if the confidence interval is (0.101, 0.139), it means that we are 95% confident that the true proportion of individuals in the population who smoke is between 0.101 and 0.139. This implies that if we were to repeat the study and construct confidence intervals using different samples, approximately 95% of those intervals would contain the true population proportion."
   ]
  },
  {
   "cell_type": "code",
   "execution_count": 29,
   "id": "89183579-5cc4-40a4-abbe-662f52298125",
   "metadata": {},
   "outputs": [],
   "source": [
    "#Ans 5"
   ]
  },
  {
   "cell_type": "code",
   "execution_count": 30,
   "id": "1097ad31-0b7f-4844-ad51-85c0d74972e1",
   "metadata": {},
   "outputs": [
    {
     "name": "stdout",
     "output_type": "stream",
     "text": [
      "90% Confidence Interval: (73.02617564765823, 76.97382435234177)\n"
     ]
    }
   ],
   "source": [
    "import scipy.stats as stats\n",
    "\n",
    "# Sample mean and standard deviation\n",
    "mean = 75\n",
    "std_dev = 12\n",
    "\n",
    "# Sample size\n",
    "n = 100\n",
    "\n",
    "# Calculate the standard error\n",
    "std_error = std_dev / (n ** 0.5)\n",
    "\n",
    "# Calculate the margin of error\n",
    "margin_of_error = stats.norm.ppf(0.95) * std_error\n",
    "\n",
    "# Calculate the confidence interval\n",
    "confidence_interval = (mean - margin_of_error, mean + margin_of_error)\n",
    "\n",
    "# Print the confidence interval\n",
    "print(\"90% Confidence Interval:\", confidence_interval)\n"
   ]
  },
  {
   "cell_type": "code",
   "execution_count": 31,
   "id": "d429d11c-2630-4971-a1be-f0a66f55d237",
   "metadata": {},
   "outputs": [],
   "source": [
    "# In this example, the mean variable represents the sample mean (75) and the std_dev variable represents the standard deviation (12) of the sample data. The n variable represents the sample size (100).\n",
    "\n",
    "# First, we calculate the standard error by dividing the standard deviation by the square root of the sample size.\n",
    "\n",
    "# Next, we calculate the margin of error using the inverse of the cumulative distribution function (CDF) of the standard normal distribution at the desired confidence level (0.95 for a 90% confidence interval).\n",
    "\n",
    "# Then, we calculate the confidence interval by subtracting and adding the margin of error from the sample mean.\n",
    "\n",
    "# Finally, we print the 90% confidence interval.\n",
    "\n",
    "# Interpreting the results:\n",
    "# The resulting confidence interval (lower bound, upper bound) represents the range within which we can be 90% confident that the true population mean lies, based on the given sample data.\n",
    "\n",
    "# For example, if the confidence interval is (71.95, 78.05), it means that we are 90% confident that the true population mean is between 71.95 and 78.05. This implies that if we were to repeat the sampling process and construct confidence intervals using different samples, approximately 90% of those intervals would contain the true population mean."
   ]
  },
  {
   "cell_type": "code",
   "execution_count": 32,
   "id": "d6778268-f95f-4186-b20d-0956e5a1ec75",
   "metadata": {},
   "outputs": [],
   "source": [
    "#Ans 6"
   ]
  },
  {
   "cell_type": "code",
   "execution_count": 33,
   "id": "d17fc04b-b815-4e19-97d4-e54b63a60ded",
   "metadata": {},
   "outputs": [
    {
     "data": {
      "image/png": "[encoded data removed]",
      "text/plain": [
       "<Figure size 640x480 with 1 Axes>"
      ]
     },
     "metadata": {},
     "output_type": "display_data"
    }
   ],
   "source": [
    "import numpy as np\n",
    "import scipy.stats as stats\n",
    "import matplotlib.pyplot as plt\n",
    "\n",
    "# Degrees of freedom\n",
    "df = 10\n",
    "\n",
    "# Define the range of x values\n",
    "x = np.linspace(0, 30, 500)\n",
    "\n",
    "# Calculate the chi-square probability density function (PDF)\n",
    "pdf = stats.chi2.pdf(x, df)\n",
    "\n",
    "# Create the plot\n",
    "plt.plot(x, pdf, 'b-', label='Chi-square PDF (df=10)')\n",
    "\n",
    "# Shade the area corresponding to a chi-square statistic of 15\n",
    "x_shade = np.linspace(15, 30, 500)\n",
    "pdf_shade = stats.chi2.pdf(x_shade, df)\n",
    "plt.fill_between(x_shade, pdf_shade, color='gray', alpha=0.5, label='Area (Chi-square <= 15)')\n",
    "\n",
    "# Label the axes and add a legend\n",
    "plt.xlabel('Chi-square statistic')\n",
    "plt.ylabel('Probability Density Function')\n",
    "plt.legend()\n",
    "\n",
    "# Show the plot\n",
    "plt.show()\n"
   ]
  },
  {
   "cell_type": "code",
   "execution_count": 34,
   "id": "a1207435-4de4-4856-996b-b4b2d1a5bb82",
   "metadata": {},
   "outputs": [],
   "source": [
    "# In this example, the df variable represents the degrees of freedom of the chi-square distribution (10).\n",
    "\n",
    "# We define the range of x values using np.linspace to create 500 evenly spaced values from 0 to 30. Then, we calculate the chi-square probability density function (PDF) using stats.chi2.pdf with the specified degrees of freedom.\n",
    "\n",
    "# We create the plot using plt.plot and provide the x and y values for the chi-square PDF. Then, we shade the area corresponding to a chi-square statistic of 15 using plt.fill_between with the x and y values within the desired range.\n",
    "\n",
    "# We label the axes using plt.xlabel and plt.ylabel, and add a legend using plt.legend.\n",
    "\n",
    "# Finally, we display the plot using plt.show.\n",
    "\n",
    "# The resulting plot will show the chi-square distribution with 10 degrees of freedom and shade the area corresponding to a chi-square statistic of 15."
   ]
  },
  {
   "cell_type": "code",
   "execution_count": 35,
   "id": "251428af-f832-401a-99a9-536cf9997a5e",
   "metadata": {},
   "outputs": [],
   "source": [
    "#Ans 7"
   ]
  },
  {
   "cell_type": "code",
   "execution_count": 36,
   "id": "93a3b9c6-1a1f-4303-bf66-3c236a599b9c",
   "metadata": {},
   "outputs": [
    {
     "name": "stdout",
     "output_type": "stream",
     "text": [
      "99% Confidence Interval: (0.4793051576779699, 0.5606948423220302)\n"
     ]
    }
   ],
   "source": [
    "import scipy.stats as stats\n",
    "\n",
    "# Sample size\n",
    "n = 1000\n",
    "\n",
    "# Number of people who prefer Coke\n",
    "prefer_coke = 520\n",
    "\n",
    "# Calculate the sample proportion\n",
    "p = prefer_coke / n\n",
    "\n",
    "# Calculate the standard error\n",
    "std_error = (p * (1 - p) / n) ** 0.5\n",
    "\n",
    "# Calculate the margin of error\n",
    "margin_of_error = stats.norm.ppf(0.995) * std_error\n",
    "\n",
    "# Calculate the confidence interval\n",
    "confidence_interval = (p - margin_of_error, p + margin_of_error)\n",
    "\n",
    "# Print the confidence interval\n",
    "print(\"99% Confidence Interval:\", confidence_interval)\n"
   ]
  },
  {
   "cell_type": "code",
   "execution_count": 37,
   "id": "6aa6ffa3-80e8-4023-8d70-ea626f09333f",
   "metadata": {},
   "outputs": [],
   "source": [
    "# In this example, the n variable represents the sample size (1000) and the prefer_coke variable represents the number of people who prefer Coke (520).\n",
    "\n",
    "# First, we calculate the sample proportion p by dividing the number of people who prefer Coke by the sample size.\n",
    "\n",
    "# Next, we calculate the standard error using the formula for the standard deviation of a sample proportion.\n",
    "\n",
    "# Then, we calculate the margin of error using the inverse of the cumulative distribution function (CDF) of the standard normal distribution at the desired confidence level (0.995 for a 99% confidence interval).\n",
    "\n",
    "# Finally, we calculate the confidence interval by subtracting and adding the margin of error from the sample proportion.\n",
    "\n",
    "# The resulting confidence interval represents the range within which we can be 99% confident that the true proportion of people in the population who prefer Coke lies, based on the given sample data.\n",
    "\n",
    "# For example, if the confidence interval is (0.481, 0.539), it means that we are 99% confident that the true proportion of people in the population who prefer Coke is between 0.481 and 0.539. This implies that if we were to repeat the sampling process and construct confidence intervals using different samples, approximately 99% of those intervals would contain the true population proportion."
   ]
  },
  {
   "cell_type": "code",
   "execution_count": 38,
   "id": "5eaa3e8d-84a9-43f7-8ac6-d7edc575ebf8",
   "metadata": {},
   "outputs": [],
   "source": [
    "#Ans 8"
   ]
  },
  {
   "cell_type": "code",
   "execution_count": 39,
   "id": "d7662f57-94f8-4694-a847-5706224bdcfd",
   "metadata": {},
   "outputs": [
    {
     "name": "stdout",
     "output_type": "stream",
     "text": [
      "Chi-square statistic: 1.0\n",
      "p-value: 0.31731050786291115\n",
      "The observed frequencies match the expected frequencies of a fair coin.\n"
     ]
    }
   ],
   "source": [
    "import scipy.stats as stats\n",
    "\n",
    "# Observed frequencies\n",
    "observed = [45, 55]  # Tails, Heads\n",
    "\n",
    "# Expected frequencies for a fair coin\n",
    "expected = [50, 50]  # Tails, Heads\n",
    "\n",
    "# Perform the chi-square test\n",
    "chi2, p = stats.chisquare(observed, expected)\n",
    "\n",
    "# Print the test statistics and p-value\n",
    "print(\"Chi-square statistic:\", chi2)\n",
    "print(\"p-value:\", p)\n",
    "\n",
    "# Check if the observed frequencies match the expected frequencies\n",
    "alpha = 0.05  # Significance level\n",
    "if p > alpha:\n",
    "    print(\"The observed frequencies match the expected frequencies of a fair coin.\")\n",
    "else:\n",
    "    print(\"The observed frequencies do not match the expected frequencies of a fair coin.\")\n"
   ]
  },
  {
   "cell_type": "code",
   "execution_count": 40,
   "id": "1b9360c5-03e2-4d54-95c5-b8379b120f5f",
   "metadata": {},
   "outputs": [],
   "source": [
    "# In this example, the observed list contains the observed frequencies of tails and heads from flipping the coin (45 tails, 55 heads), and the expected list contains the expected frequencies for a fair coin (50 tails, 50 heads).\n",
    "\n",
    "# The stats.chisquare function is used to perform the chi-square test, passing the observed frequencies and expected frequencies as arguments. It returns the chi-square statistic and p-value.\n",
    "\n",
    "# Finally, the code compares the p-value with the chosen significance level (alpha) and prints whether the observed frequencies match the expected frequencies of a fair coin or not.\n",
    "\n",
    "# Note that the chi-square goodness of fit test assumes that the expected frequencies are derived from a theoretical distribution (in this case, the expected frequencies for a fair coin)."
   ]
  },
  {
   "cell_type": "code",
   "execution_count": 41,
   "id": "0d0dff02-4703-4882-b934-4b85b5055a6a",
   "metadata": {},
   "outputs": [],
   "source": [
    "#Ans 9"
   ]
  },
  {
   "cell_type": "code",
   "execution_count": 45,
   "id": "c16399b5-c8c4-49f8-aa9f-9a195ccafd28",
   "metadata": {},
   "outputs": [
    {
     "name": "stdout",
     "output_type": "stream",
     "text": [
      "Observed Data :\n",
      "            Lung Cancer:Yes  Lung Cancer:No\n",
      "Smoker                   60             140\n",
      "Non Smoker               30             170\n",
      "\n",
      "========================================\n",
      "\n",
      "Expected Data :\n",
      "            Lung Cancer:Yes  Lung Cancer:No\n",
      "Smoker                 45.0           155.0\n",
      "Non Smoker             45.0           155.0\n",
      "\n",
      "Chi-Square Test Statistic: 12.0573\n",
      "P-value: 0.0005\n",
      "Reject the null hypothesis.\n",
      "Conclusion : There is a SIGNIFICANT association between smoking status and lung cancer diagnosis.\n"
     ]
    }
   ],
   "source": [
    "import pandas as pd\n",
    "import scipy.stats as stats\n",
    "\n",
    "# Set up the contingency table\n",
    "observed_df = pd.DataFrame({'Lung Cancer:Yes':[60,30], 'Lung Cancer:No':[140,170]})\n",
    "observed_df.index = ['Smoker','Non Smoker']\n",
    "\n",
    "# Null Hypothesis and Alternate Hypothesis\n",
    "null_hypothesis = \"There is NO significant association between smoking status and lung cancer diagnosis.\"\n",
    "alternate_hypothesis = \"There is a SIGNIFICANT association between smoking status and lung cancer diagnosis.\"\n",
    "\n",
    "# Print Observed data\n",
    "print('Observed Data :')\n",
    "print(observed_df)\n",
    "print('\\n========================================\\n')\n",
    "\n",
    "# Compute the chi-square test statistic and p-value\n",
    "test_statistic, p_value, dof, expected = stats.chi2_contingency(observed_df)\n",
    "\n",
    "# Print expected df\n",
    "expected_df = pd.DataFrame(expected)\n",
    "expected_df.columns = observed_df.columns\n",
    "expected_df.index = observed_df.index\n",
    "print('Expected Data :')\n",
    "print(expected_df)\n",
    "\n",
    "# Print the results\n",
    "print(\"\\nChi-Square Test Statistic: {:.4f}\".format(test_statistic))\n",
    "print(\"P-value: {:.4f}\".format(p_value))\n",
    "\n",
    "# Significance value\n",
    "alpha = 0.05\n",
    "\n",
    "# Compare the p-value to the significance level\n",
    "if p_value < alpha:\n",
    "    print(f\"Reject the null hypothesis.\\nConclusion : {alternate_hypothesis}\")\n",
    "else:\n",
    "    print(f\"Fail to reject the null hypothesis.\\nConculsion : {null_hypothesis}\")"
   ]
  },
  {
   "cell_type": "code",
   "execution_count": 46,
   "id": "95e554cd-0d0a-4c2b-b966-d9b24ccbea9c",
   "metadata": {},
   "outputs": [],
   "source": [
    "#Ans 10"
   ]
  },
  {
   "cell_type": "code",
   "execution_count": 47,
   "id": "cb8d0cb0-20dc-4253-a746-9cb3b5b1e4e5",
   "metadata": {},
   "outputs": [
    {
     "name": "stdout",
     "output_type": "stream",
     "text": [
      "Observed Data :\n",
      "              Milk Chocolate  Dark Chocolate  White Chocolate\n",
      "U.S. (n=500)             200             150              150\n",
      "U.K. (n=500)             225             175              100\n",
      "\n",
      "================================================================\n",
      "\n",
      "Expected Data :\n",
      "              Milk Chocolate  Dark Chocolate  White Chocolate\n",
      "U.S. (n=500)           212.5           162.5            125.0\n",
      "U.K. (n=500)           212.5           162.5            125.0\n",
      "\n",
      "Chi-Square Test Statistic: 13.3937\n",
      "P-value: 0.0012\n",
      "Reject the null hypothesis.\n",
      "Conclusion : There is a SIGNIFICANT association between Country and Chocolate type preffered.\n"
     ]
    }
   ],
   "source": [
    "import pandas as pd\n",
    "import scipy.stats as stats\n",
    "\n",
    "# Set up the contingency table\n",
    "observed_df = pd.DataFrame({'Milk Chocolate':[200,225], 'Dark Chocolate':[150,175], 'White Chocolate':[150,100]})\n",
    "observed_df.index = ['U.S. (n=500)','U.K. (n=500)']\n",
    "print('Observed Data :')\n",
    "print(observed_df)\n",
    "\n",
    "# Null Hypothesis and Alternate Hypothesis\n",
    "null_hypothesis = \"There is NO significant association between Country and Chocolate type preffered.\"\n",
    "alternate_hypothesis = \"There is a SIGNIFICANT association between Country and Chocolate type preffered.\"\n",
    "\n",
    "print('\\n================================================================\\n')\n",
    "\n",
    "# Compute the chi-square test statistic and p-value\n",
    "test_statistic, p_value, dof, expected = stats.chi2_contingency(observed_df)\n",
    "\n",
    "# Print expected df\n",
    "expected_df = pd.DataFrame(expected)\n",
    "expected_df.columns = observed_df.columns\n",
    "expected_df.index = observed_df.index\n",
    "print('Expected Data :')\n",
    "print(expected_df)\n",
    "\n",
    "# Print the results\n",
    "print(\"\\nChi-Square Test Statistic: {:.4f}\".format(test_statistic))\n",
    "print(\"P-value: {:.4f}\".format(p_value))\n",
    "\n",
    "# Significance value\n",
    "alpha = 0.01\n",
    "\n",
    "# Compare the p-value to the significance level\n",
    "if p_value < alpha:\n",
    "    print(f\"Reject the null hypothesis.\\nConclusion : {alternate_hypothesis}\")\n",
    "else:\n",
    "    print(f\"Fail to reject the null hypothesis.\\nConculsion : {null_hypothesis}\")"
   ]
  },
  {
   "cell_type": "code",
   "execution_count": 48,
   "id": "90666c78-4e5b-427b-8e16-95fec1578ab4",
   "metadata": {},
   "outputs": [],
   "source": [
    "#Ans 11"
   ]
  },
  {
   "cell_type": "code",
   "execution_count": 49,
   "id": "941e17a9-67a3-4b4b-8973-2c8b7040a1f6",
   "metadata": {},
   "outputs": [
    {
     "name": "stdout",
     "output_type": "stream",
     "text": [
      "t-statistic: 1.0954451150103321\n",
      "p-value: 0.2823362372860698\n",
      "The population mean is not significantly different from 70.\n"
     ]
    }
   ],
   "source": [
    "import scipy.stats as stats\n",
    "\n",
    "# Sample mean and standard deviation\n",
    "sample_mean = 72\n",
    "sample_std_dev = 10\n",
    "\n",
    "# Null hypothesis value\n",
    "null_mean = 70\n",
    "\n",
    "# Sample size\n",
    "n = 30\n",
    "\n",
    "# Calculate the t-statistic\n",
    "t = (sample_mean - null_mean) / (sample_std_dev / (n ** 0.5))\n",
    "\n",
    "# Calculate the p-value\n",
    "p = 2 * (1 - stats.t.cdf(abs(t), df=n-1))\n",
    "\n",
    "# Print the test statistic and p-value\n",
    "print(\"t-statistic:\", t)\n",
    "print(\"p-value:\", p)\n",
    "\n",
    "# Check if the null hypothesis is rejected or not\n",
    "alpha = 0.05  # Significance level\n",
    "if p < alpha:\n",
    "    print(\"The population mean is significantly different from 70.\")\n",
    "else:\n",
    "    print(\"The population mean is not significantly different from 70.\")\n"
   ]
  },
  {
   "cell_type": "code",
   "execution_count": null,
   "id": "9d93a629-8132-4b08-a000-2e677c33faae",
   "metadata": {},
   "outputs": [],
   "source": []
  }
 ],
 "metadata": {
  "kernelspec": {
   "display_name": "Python 3 (ipykernel)",
   "language": "python",
   "name": "python3"
  },
  "language_info": {
   "codemirror_mode": {
    "name": "ipython",
    "version": 3
   },
   "file_extension": ".py",
   "mimetype": "text/x-python",
   "name": "python",
   "nbconvert_exporter": "python",
   "pygments_lexer": "ipython3",
   "version": "3.10.8"
  }
 },
 "nbformat": 4,
 "nbformat_minor": 5
}
